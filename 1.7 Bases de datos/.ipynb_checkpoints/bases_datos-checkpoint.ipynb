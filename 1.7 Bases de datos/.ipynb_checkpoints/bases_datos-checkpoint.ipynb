{
 "cells": [
  {
   "cell_type": "markdown",
   "id": "9f611f5e-b6fd-496b-88e7-093b409646bd",
   "metadata": {},
   "source": [
    "## BASE DE DATOS"
   ]
  },
  {
   "cell_type": "code",
   "execution_count": 1,
   "id": "7964c3e5-28a4-4bd0-8982-60d671303cb6",
   "metadata": {},
   "outputs": [],
   "source": [
    "import sqlite3\n",
    "import pandas as pd\n",
    "\n",
    "# este comando crea o abre un archivo de base de datos\n",
    "db_conn = sqlite3.connect('productos_solla.db')\n",
    "\n",
    "# crear cursor\n",
    "cursos_db = db_conn.cursor()\n",
    "\n",
    "\n"
   ]
  },
  {
   "cell_type": "code",
   "execution_count": 9,
   "id": "af691ac5-475a-458d-b910-abffda1a1b56",
   "metadata": {},
   "outputs": [
    {
     "data": {
      "text/plain": [
       "<sqlite3.Cursor at 0x258c80a7940>"
      ]
     },
     "execution_count": 9,
     "metadata": {},
     "output_type": "execute_result"
    }
   ],
   "source": [
    "# crear tablas\n",
    "cursos_db.execute(\n",
    "    \"\"\"\n",
    "    CREATE TABLE IF NOT EXISTS productos (\n",
    "        id INTEGER PRIMARY KEY,\n",
    "        descripcion TEXT NOT NULL UNIQUE,\n",
    "        valor FLOAT NOT NULL,\n",
    "        und_empaques INTEGER NOT NULL,\n",
    "        color TEXT,\n",
    "        linea TEXT,\n",
    "        codigo INTEGER\n",
    "    )\n",
    "    \"\"\"\n",
    ")"
   ]
  },
  {
   "cell_type": "code",
   "execution_count": 10,
   "id": "2183671f-73ca-4ee9-aa03-8fb68c129b87",
   "metadata": {},
   "outputs": [
    {
     "data": {
      "text/plain": [
       "<sqlite3.Cursor at 0x258c80a7940>"
      ]
     },
     "execution_count": 10,
     "metadata": {},
     "output_type": "execute_result"
    }
   ],
   "source": [
    "# Insertar datos en tablas\n",
    "cursos_db.execute(\n",
    "    \"\"\"\n",
    "    INSERT INTO productos (descripcion, valor, und_empaques, color, linea, codigo) \n",
    "    VALUES \n",
    "    ('NutreCan', 15000, 100, 'Negro', 'Balanceados', 758423619),\n",
    "    ('CuidaCat', 20000, 50, 'Marron', 'Balanceados', 752146325),\n",
    "    ('Conejos', 30000, 50, 'Blanco', 'Balanceados', 759846512),\n",
    "    ('Chanchitos', 28000, 80, 'Verde', 'Balanceados', 754136985),\n",
    "    ('Cachorros', 35000, 180, 'Azul', 'Balanceados', 751236985)\n",
    "    \"\"\"\n",
    ")"
   ]
  },
  {
   "cell_type": "code",
   "execution_count": 11,
   "id": "080f621b-0fc9-4385-a6bd-b8c8f76f1008",
   "metadata": {},
   "outputs": [
    {
     "name": "stdout",
     "output_type": "stream",
     "text": [
      "   cid          name     type  notnull dflt_value  pk\n",
      "0    0            id  INTEGER        0       None   1\n",
      "1    1   descripcion     TEXT        1       None   0\n",
      "2    2         valor    FLOAT        1       None   0\n",
      "3    3  und_empaques  INTEGER        1       None   0\n",
      "4    4         color     TEXT        0       None   0\n",
      "5    5         linea     TEXT        0       None   0\n",
      "6    6        codigo  INTEGER        0       None   0\n"
     ]
    }
   ],
   "source": [
    "nombre_tabla = 'productos'\n",
    "\n",
    "consulta = f\"PRAGMA table_info({nombre_tabla})\"\n",
    "\n",
    "estructura_tabla = pd.read_sql_query(consulta, db_conn)\n",
    "\n",
    "print(estructura_tabla)\n",
    "\n"
   ]
  },
  {
   "cell_type": "code",
   "execution_count": 18,
   "id": "bbd01812-7896-49b3-a95a-281f0cf2d569",
   "metadata": {},
   "outputs": [
    {
     "name": "stdout",
     "output_type": "stream",
     "text": [
      "(1, 'NutreCan', 15000.0, 100, 'NEGRO', 'Balanceados', 758423619)\n",
      "(2, 'CuidaCat', 20000.0, 50, 'Marron', 'Balanceados', 752146325)\n",
      "(3, 'Conejos', 30000.0, 50, 'Blanco', 'Balanceados', 759846512)\n",
      "(4, 'Chanchitos', 28000.0, 80, 'Verde', 'Balanceados', 754136985)\n",
      "(5, 'Cachorros', 35000.0, 180, 'Azul', 'Balanceados', 751236985)\n"
     ]
    }
   ],
   "source": [
    "# Seleccionar datos de una tabla\n",
    "cursos_db.execute(\n",
    "    \"SELECT * FROM productos\"\n",
    ")\n",
    "\n",
    "datos_productos = cursos_db.fetchall()\n",
    "\n",
    "for fila in datos_productos:\n",
    "    print(fila)"
   ]
  },
  {
   "cell_type": "code",
   "execution_count": 17,
   "id": "26740d99-2f06-4969-a259-dc1866232b81",
   "metadata": {},
   "outputs": [
    {
     "data": {
      "text/plain": [
       "<sqlite3.Cursor at 0x258c80a7940>"
      ]
     },
     "execution_count": 17,
     "metadata": {},
     "output_type": "execute_result"
    }
   ],
   "source": [
    "# Actualizar datos de una tabla\n",
    "cursos_db.execute(\n",
    "    \"\"\"\n",
    "    UPDATE productos\n",
    "    SET color = \"NEGRO\"\n",
    "    WHERE id = 1;\n",
    "    \"\"\"\n",
    ")"
   ]
  },
  {
   "cell_type": "code",
   "execution_count": 7,
   "id": "46ca79eb-d292-47c3-8175-c455e9710d08",
   "metadata": {},
   "outputs": [
    {
     "data": {
      "text/plain": [
       "<sqlite3.Cursor at 0x258c80a7940>"
      ]
     },
     "execution_count": 7,
     "metadata": {},
     "output_type": "execute_result"
    }
   ],
   "source": [
    "# Borrar una tabla\n",
    "\n",
    "cursos_db.execute(\n",
    "    \"\"\"\n",
    "    DROP TABLE IF EXISTS productos\n",
    "    \"\"\"\n",
    ")"
   ]
  },
  {
   "cell_type": "code",
   "execution_count": 33,
   "id": "df74497e-5e40-4c0d-a0d3-dcc36dc3c753",
   "metadata": {},
   "outputs": [],
   "source": [
    "db_conn.close()"
   ]
  }
 ],
 "metadata": {
  "kernelspec": {
   "display_name": "Python 3 (ipykernel)",
   "language": "python",
   "name": "python3"
  },
  "language_info": {
   "codemirror_mode": {
    "name": "ipython",
    "version": 3
   },
   "file_extension": ".py",
   "mimetype": "text/x-python",
   "name": "python",
   "nbconvert_exporter": "python",
   "pygments_lexer": "ipython3",
   "version": "3.12.4"
  }
 },
 "nbformat": 4,
 "nbformat_minor": 5
}
