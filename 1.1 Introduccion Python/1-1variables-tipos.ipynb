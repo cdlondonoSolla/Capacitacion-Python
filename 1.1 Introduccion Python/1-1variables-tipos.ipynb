{
 "cells": [
  {
   "cell_type": "markdown",
   "metadata": {},
   "source": [
    "# __Variables y tipos de datos__  \n",
    "### __¿Qué es una variable?__  \n",
    "Imagina una caja con un nombre. Esa caja puede contener diferentes cosas: un número, una palabra, una lista, etc. En programación, esa caja es una variable. Le asignamos un nombre para poder referirnos a ella más tarde y modificar o utilizar el valor que contiene.\n",
    "\n",
    "### __¿Qué es un tipo de dato?__  \n",
    "El tipo de dato de una variable especifica qué tipo de valor puede almacenar. Por ejemplo, un número entero y una palabra son tipos de datos diferentes. Python determina automáticamente el tipo de dato cuando asignamos un valor a una variable, pero es importante conocer los tipos básicos para poder trabajar con ellos de manera efectiva.\n",
    "\n",
    "### __Tipos de Datos Básicos en Python__  \n",
    "- __int:__ Representa números enteros (sin decimales), como 2, -5, 0.  \n",
    "- __float:__ Representa números con decimales, como 3.14, -2.5.  \n",
    "- __str:__ Representa cadenas de texto, como \"Hola\", \"Python\".  \n",
    "- __bool:__ Representa valores booleanos, que son True (verdadero) o False (falso).  \n",
    "\n",
    "### __Cómo declarar una variable__  \n",
    "Para declarar una variable en Python, simplemente asignamos un valor a un nombre:"
   ]
  },
  {
   "cell_type": "code",
   "execution_count": 1,
   "metadata": {},
   "outputs": [],
   "source": [
    "# Asignando un número entero a la variable 'edad'\n",
    "edad = 30\n",
    "\n",
    "# Asignando una cadena de texto a la variable 'nombre'\n",
    "nombre = \"Juan\"\n",
    "\n",
    "# Asignando un valor booleano a la variable 'es_estudiante'\n",
    "es_estudiante = True"
   ]
  },
  {
   "cell_type": "markdown",
   "metadata": {},
   "source": [
    "### __Operaciones con variables__  \n",
    "Una vez que tenemos variables, podemos realizar operaciones con ellas:"
   ]
  },
  {
   "cell_type": "code",
   "execution_count": 3,
   "metadata": {},
   "outputs": [
    {
     "data": {
      "text/plain": [
       "'Hola, Juan!'"
      ]
     },
     "execution_count": 3,
     "metadata": {},
     "output_type": "execute_result"
    }
   ],
   "source": [
    "# Operaciones aritméticas con números\n",
    "suma = 5 + 3\n",
    "resta = 10 - 4\n",
    "multiplicacion = 2 * 6\n",
    "division = 15 / 3\n",
    "\n",
    "# Concatenación de cadenas\n",
    "saludo = \"Hola, \" + nombre + \"!\"\n",
    "print(saludo)  # Imprime \"Hola, Juan!\""
   ]
  },
  {
   "cell_type": "markdown",
   "metadata": {},
   "source": [
    "### Funciones para conocer el tipo de dato\n",
    "Para saber el tipo de dato de una variable, podemos usar la función `type()`:"
   ]
  },
  {
   "cell_type": "code",
   "execution_count": 4,
   "metadata": {},
   "outputs": [
    {
     "name": "stdout",
     "output_type": "stream",
     "text": [
      "<class 'int'>\n",
      "<class 'str'>\n"
     ]
    }
   ],
   "source": [
    "print(type(edad))  # Imprime <class 'int'>\n",
    "print(type(nombre))  # Imprime <class 'str'>"
   ]
  },
  {
   "cell_type": "markdown",
   "metadata": {},
   "source": [
    "### __Otros tipos de datos (más avanzados)__\n",
    "Además de los tipos básicos, Python tiene otros tipos de datos más complejos, como:\n",
    "\n",
    "- __Listas:__ Colecciones ordenadas de elementos, que pueden ser de diferentes tipos.\n",
    "- __Tuplas:__ Similares a las listas, pero inmutables (no se pueden modificar después de crearlas).\n",
    "- __Diccionarios:__ Colecciones de pares clave-valor, donde cada clave es única.\n",
    "- __Conjuntos:__ Colecciones no ordenadas de elementos únicos. \n",
    "\n",
    "__Ejemplos:__"
   ]
  },
  {
   "cell_type": "code",
   "execution_count": 5,
   "metadata": {},
   "outputs": [],
   "source": [
    "# Lista    [0]         [1]       [2]\n",
    "frutas = [\"manzana\", \"banana\", \"pera\", 1, False, [1, 2, 3]]\n",
    "\n",
    "# Diccionario\n",
    "persona = {\n",
    "    \"nombre\": \"Ana\", \n",
    "    \"edad\": 25, \n",
    "    \"ciudad\": \"Madrid\"\n",
    "}\n",
    "\n",
    "# Tupla\n",
    "objetos = (\"pelota\", \"lápiz\", \"reloj\")\n",
    "\n",
    "# Conjunto\n",
    "rango = {1, 2, 3, 4, 5}"
   ]
  }
 ],
 "metadata": {
  "kernelspec": {
   "display_name": "Python 3",
   "language": "python",
   "name": "python3"
  },
  "language_info": {
   "codemirror_mode": {
    "name": "ipython",
    "version": 3
   },
   "file_extension": ".py",
   "mimetype": "text/x-python",
   "name": "python",
   "nbconvert_exporter": "python",
   "pygments_lexer": "ipython3",
   "version": "3.12.4"
  }
 },
 "nbformat": 4,
 "nbformat_minor": 2
}
