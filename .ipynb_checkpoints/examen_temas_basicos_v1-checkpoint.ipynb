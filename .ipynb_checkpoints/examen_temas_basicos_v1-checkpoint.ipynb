{
 "cells": [
  {
   "cell_type": "markdown",
   "metadata": {
    "id": "K9yId2wYrShG"
   },
   "source": [
    "## Ejercicio 1: Suma de dos números\n",
    "Escribe un programa que tome dos números como entrada y los sume."
   ]
  },
  {
   "cell_type": "code",
   "execution_count": 3,
   "metadata": {
    "id": "XxCw8zE7rbQ3"
   },
   "outputs": [],
   "source": [
    "# Salida esperada:\n",
    "# Ingresa el primer número: 4\n",
    "# Ingresa el segundo número: 5\n",
    "# La suma es: 9"
   ]
  },
  {
   "cell_type": "code",
   "execution_count": 10,
   "metadata": {},
   "outputs": [
    {
     "name": "stdin",
     "output_type": "stream",
     "text": [
      "Ingresa el primer número:  9\n",
      "Ingresa el segundo número:  5\n"
     ]
    },
    {
     "name": "stdout",
     "output_type": "stream",
     "text": [
      "La suma es: 14\n"
     ]
    }
   ],
   "source": [
    "num1 = int(input(\"Ingresa el primer número: \"))\n",
    "num2 = int(input(\"Ingresa el segundo número: \"))\n",
    "\n",
    "suma = num1 + num2\n",
    "\n",
    "print(f\"La suma es: {suma}\" )\n"
   ]
  },
  {
   "cell_type": "markdown",
   "metadata": {
    "id": "k_7n0BWSrlqR"
   },
   "source": [
    "## Ejercicio 2: Conversión de millas a kilómetros\n",
    "Escribe un programa que convierta millas a kilómetros. (1 milla = 1.60934 km)"
   ]
  },
  {
   "cell_type": "code",
   "execution_count": 11,
   "metadata": {
    "id": "grPtyywKrqar"
   },
   "outputs": [
    {
     "name": "stdin",
     "output_type": "stream",
     "text": [
      "Ingrese la distancia en millas:  5000\n"
     ]
    },
    {
     "name": "stdout",
     "output_type": "stream",
     "text": [
      "5000.0 millas son 8046.70 kilómetros.\n"
     ]
    }
   ],
   "source": [
    "# Salida esperada:\n",
    "# Ingresa la cantidad de millas: 5\n",
    "# 5.0 millas son 8.0467 kilómetros\n",
    "\n",
    "def millas_a_kilometros(millas):\n",
    "    \"\"\"\n",
    "    Función que convierte millas a kilómetros.\n",
    " \n",
    "    :param millas: Distancia en millas\n",
    "    :return: Distancia en kilómetros\n",
    "    \"\"\"\n",
    "    conversion_factor = 1.60934\n",
    "    return millas * conversion_factor\n",
    " \n",
    "# Solicitar la distancia en millas al usuario\n",
    "try:\n",
    "    millas = float(input(\"Ingrese la distancia en millas: \"))\n",
    "except ValueError:\n",
    "    print(\"Por favor, ingrese un valor numérico válido.\")\n",
    "else:\n",
    "    # Convertir millas a kilómetros\n",
    "    kilometros = millas_a_kilometros(millas)\n",
    " \n",
    "    # Mostrar el resultado\n",
    "    print(f\"{millas} millas son {kilometros:.2f} kilómetros.\")"
   ]
  },
  {
   "cell_type": "markdown",
   "metadata": {
    "id": "VK1D4GlNsdnL"
   },
   "source": [
    "## Ejercicio 3: Verificación de paridad\n",
    "Escribe un programa que verifique si un número es par o impar."
   ]
  },
  {
   "cell_type": "code",
   "execution_count": 12,
   "metadata": {
    "id": "Pe4jCDyvsphP"
   },
   "outputs": [
    {
     "name": "stdin",
     "output_type": "stream",
     "text": [
      "Ingrese un número entero:  5\n"
     ]
    },
    {
     "name": "stdout",
     "output_type": "stream",
     "text": [
      "El número 5 es impar.\n"
     ]
    }
   ],
   "source": [
    "# Salida esperada:\n",
    "# Ingresa un número: 7\n",
    "# 7 es un número impar\n",
    "\n",
    "\n",
    "def verificar_par_o_impar(numero):\n",
    "    \"\"\"\n",
    "    Función que verifica si un número es par o impar.\n",
    " \n",
    "    :param numero: Número entero\n",
    "    :return: Cadena indicando si el número es par o impar\n",
    "    \"\"\"\n",
    "    if numero % 2 == 0:\n",
    "        return \"par\"\n",
    "    else:\n",
    "        return \"impar\"\n",
    " \n",
    "# Solicitar un número entero al usuario\n",
    "try:\n",
    "    numero = int(input(\"Ingrese un número entero: \"))\n",
    "except ValueError:\n",
    "    print(\"Por favor, ingrese un número entero válido.\")\n",
    "else:\n",
    "    # Verificar si el número es par o impar\n",
    "    resultado = verificar_par_o_impar(numero)\n",
    " \n",
    "    # Mostrar el resultado\n",
    "    print(f\"El número {numero} es {resultado}.\")"
   ]
  },
  {
   "cell_type": "markdown",
   "metadata": {
    "id": "duigN4-AtT57"
   },
   "source": [
    "## Ejercicio 4: Conversión de grados Celsius a Fahrenheit\n",
    "Escribe un programa que convierta grados Celsius a Fahrenheit. (F = C * 9/5 + 32)"
   ]
  },
  {
   "cell_type": "code",
   "execution_count": 14,
   "metadata": {
    "id": "Dhm4e83WtoqL"
   },
   "outputs": [
    {
     "name": "stdin",
     "output_type": "stream",
     "text": [
      "Ingresa la temperatura en Celsius:  25\n"
     ]
    },
    {
     "name": "stdout",
     "output_type": "stream",
     "text": [
      "25.0 millas son 77.00 kilómetros.\n"
     ]
    }
   ],
   "source": [
    "# Salida esperada:\n",
    "# Ingresa la temperatura en Celsius: 25\n",
    "# 25.0 grados Celsius son 77.0 grados Fahrenheit\n",
    "\n",
    "def grados_a_fahrentheit(grados):\n",
    "    \"\"\"\n",
    "    Función que convierte millas a kilómetros.\n",
    " \n",
    "    :param millas: Distancia en millas\n",
    "    :return: Distancia en kilómetros\n",
    "    \"\"\"\n",
    "    fahrenheit = grados * 9/5 +32\n",
    "    return fahrenheit\n",
    " \n",
    "# Solicitar la distancia en millas al usuario\n",
    "try:\n",
    "    grados = float(input(\"Ingresa la temperatura en Celsius: \"))\n",
    "except ValueError:\n",
    "    print(\"Por favor, ingrese un valor numérico válido.\")\n",
    "else:\n",
    "    # Convertir millas a kilómetros\n",
    "    valorFinal = grados_a_fahrentheit(grados)\n",
    " \n",
    "    # Mostrar el resultado\n",
    "    print(f\"{grados} millas son {valorFinal:.2f} kilómetros.\")"
   ]
  },
  {
   "cell_type": "markdown",
   "metadata": {
    "id": "TZ-vTncZuS1M"
   },
   "source": [
    "## Ejercicio 5: Factorial de un número\n",
    "Escribe un programa que calcule el factorial de un número dado."
   ]
  },
  {
   "cell_type": "code",
   "execution_count": 15,
   "metadata": {
    "id": "8mkhNKEPutn4"
   },
   "outputs": [
    {
     "name": "stdin",
     "output_type": "stream",
     "text": [
      "Introduce un número para calcular su factorial:  5\n"
     ]
    },
    {
     "name": "stdout",
     "output_type": "stream",
     "text": [
      "El factorial de 5 es: 120\n"
     ]
    }
   ],
   "source": [
    "# Salida esperada:\n",
    "# Ingresa un número: 5\n",
    "# El factorial de 5 es 120\n",
    "\n",
    "def factorial_iterativo(n):\n",
    "    if n < 0:\n",
    "        return \"El factorial no está definido para números negativos.\"\n",
    "    resultado = 1\n",
    "    for i in range(1, n + 1):\n",
    "        resultado *= i\n",
    "    return resultado\n",
    "\n",
    "# Solicitar al usuario un número\n",
    "numero = int(input(\"Introduce un número para calcular su factorial: \"))\n",
    "print(f\"El factorial de {numero} es: {factorial_iterativo(numero)}\")"
   ]
  },
  {
   "cell_type": "markdown",
   "metadata": {
    "id": "1V5Hq8h7u7Z3"
   },
   "source": [
    "## Ejercicio 6: Conteo de vocales\n",
    "Escribe un programa que cuente cuántas vocales hay en una cadena dada."
   ]
  },
  {
   "cell_type": "code",
   "execution_count": 16,
   "metadata": {
    "id": "qAzMCTbpu-uA"
   },
   "outputs": [
    {
     "name": "stdin",
     "output_type": "stream",
     "text": [
      "Introduce una cadena para contar las vocales:  Hola Mundo\n"
     ]
    },
    {
     "name": "stdout",
     "output_type": "stream",
     "text": [
      "El número de vocales en la cadena es: 4\n"
     ]
    }
   ],
   "source": [
    "# Salida esperada:\n",
    "# Ingresa una cadena: Hola Mundo\n",
    "# La cantidad de vocales es: 4\n",
    "\n",
    "def contar_vocales(cadena):\n",
    "    # Definir el conjunto de vocales (tanto minúsculas como mayúsculas)\n",
    "    vocales = 'aeiouAEIOU'\n",
    "    # Inicializar el contador de vocales\n",
    "    contador = 0\n",
    "    \n",
    "    # Recorrer cada carácter en la cadena\n",
    "    for caracter in cadena:\n",
    "        # Verificar si el carácter es una vocal\n",
    "        if caracter in vocales:\n",
    "            contador += 1\n",
    "            \n",
    "    return contador\n",
    "\n",
    "# Solicitar al usuario una cadena\n",
    "cadena = input(\"Introduce una cadena para contar las vocales: \")\n",
    "# Contar las vocales y mostrar el resultado\n",
    "print(f\"El número de vocales en la cadena es: {contar_vocales(cadena)}\")\n"
   ]
  },
  {
   "cell_type": "markdown",
   "metadata": {
    "id": "1_5cuQn1wACL"
   },
   "source": [
    "## Ejercicio 7: Números pares en un rango\n",
    "Escribe un programa que imprima todos los números pares en un rango dado."
   ]
  },
  {
   "cell_type": "code",
   "execution_count": 17,
   "metadata": {
    "id": "Ji4_JEc2wJ1q"
   },
   "outputs": [
    {
     "name": "stdin",
     "output_type": "stream",
     "text": [
      "Introduce el inicio del rango:  1\n",
      "Introduce el fin del rango:  10\n"
     ]
    },
    {
     "name": "stdout",
     "output_type": "stream",
     "text": [
      "Números pares en el rango de 1 a 10:\n",
      "2\n",
      "4\n",
      "6\n",
      "8\n",
      "10\n"
     ]
    }
   ],
   "source": [
    "# Salida esperada:\n",
    "# Ingresa el inicio del rango: 1\n",
    "# Ingresa el fin del rango: 10\n",
    "# 2 4 6 8 10\n",
    "\n",
    "def imprimir_numeros_pares(inicio, fin):\n",
    "    # Iterar desde el inicio hasta el fin (inclusive)\n",
    "    for numero in range(inicio, fin + 1):\n",
    "        # Verificar si el número es par\n",
    "        if numero % 2 == 0:\n",
    "            print(numero)\n",
    "\n",
    "# Solicitar al usuario el rango\n",
    "inicio = int(input(\"Introduce el inicio del rango: \"))\n",
    "fin = int(input(\"Introduce el fin del rango: \"))\n",
    "\n",
    "# Imprimir los números pares en el rango dado\n",
    "print(f\"Números pares en el rango de {inicio} a {fin}:\")\n",
    "imprimir_numeros_pares(inicio, fin)\n"
   ]
  }
 ],
 "metadata": {
  "colab": {
   "provenance": []
  },
  "kernelspec": {
   "display_name": "Python 3 (ipykernel)",
   "language": "python",
   "name": "python3"
  },
  "language_info": {
   "codemirror_mode": {
    "name": "ipython",
    "version": 3
   },
   "file_extension": ".py",
   "mimetype": "text/x-python",
   "name": "python",
   "nbconvert_exporter": "python",
   "pygments_lexer": "ipython3",
   "version": "3.12.4"
  }
 },
 "nbformat": 4,
 "nbformat_minor": 4
}
