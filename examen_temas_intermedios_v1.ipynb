{
 "cells": [
  {
   "cell_type": "markdown",
   "metadata": {
    "id": "fFs0uoEWBmer"
   },
   "source": [
    "### Ejercicio 1: Cálculo de Descuento\n",
    "Crea una función llamada calcular_descuento que reciba el nombre de un producto, su precio y el porcentaje de descuento a aplicar. La función debe devolver el precio final con el descuento aplicado."
   ]
  },
  {
   "cell_type": "code",
   "execution_count": null,
   "metadata": {
    "id": "0zUfxokvBpNz"
   },
   "outputs": [],
   "source": [
    "# Ingrese el nombre del producto: Concentrado para aves\n",
    "# Ingrese el precio del producto: 25000\n",
    "# Ingrese el porcentaje de descuento: 10\n",
    "# Producto: Concentrado para aves, Precio final después del 10% de descuento: $22500.00"
   ]
  },
  {
   "cell_type": "code",
   "execution_count": 6,
   "metadata": {},
   "outputs": [
    {
     "name": "stdin",
     "output_type": "stream",
     "text": [
      "Ingrese el nombre del producto:  Aves\n",
      "Ingrese el precio del producto:  25000\n",
      "Ingrese el porcentaje de descuento:  10\n"
     ]
    },
    {
     "name": "stdout",
     "output_type": "stream",
     "text": [
      "Producto: Aves, Precio final después del 10% de descuento: $22500.00\n"
     ]
    }
   ],
   "source": [
    "def calcular_descuento(nombre_producto, precio, porcentaje_descuento):\n",
    "\n",
    "    if precio < 0:\n",
    "        raise ValueError(\"El precio no puede ser negativo.\")\n",
    "    if porcentaje_descuento < 0 or porcentaje_descuento > 100:\n",
    "        raise ValueError(\"El porcentaje de descuento debe estar entre 0 y 100.\")\n",
    "\n",
    "    descuento = (precio * porcentaje_descuento) / 100\n",
    "    precio_final = precio - descuento\n",
    "    return precio_final\n",
    "\n",
    "nombre = input(\"Ingrese el nombre del producto: \")\n",
    "precio_original = int(input(\"Ingrese el precio del producto: \"))\n",
    "descuento = int(input(\"Ingrese el porcentaje de descuento: \"))\n",
    "\n",
    "precio_con_descuento = calcular_descuento(nombre, precio_original, descuento)\n",
    "\n",
    "print(f\"Producto: {nombre}, Precio final después del {descuento}% de descuento: ${precio_con_descuento:.2f}\")"
   ]
  },
  {
   "cell_type": "markdown",
   "metadata": {
    "id": "UBHV8cwfB2RX"
   },
   "source": [
    "### Ejercicio 2: Conversión de Unidades\n",
    "Crea una clase Producto que tenga como atributos el nombre del producto y su peso en kilogramos. La clase debe tener un método llamado convertir_a_gramos que convierta el peso del producto de kilogramos a gramos."
   ]
  },
  {
   "cell_type": "code",
   "execution_count": 7,
   "metadata": {
    "id": "3skeC5HOB52E"
   },
   "outputs": [
    {
     "name": "stdin",
     "output_type": "stream",
     "text": [
      "Ingrese el nombre del producto:  Maiz\n",
      "Ingrese el peso en kilogramos:  2.5\n"
     ]
    },
    {
     "name": "stdout",
     "output_type": "stream",
     "text": [
      "Producto: Maiz, Peso: 2.5 kg\n",
      "El peso de Producto: Maiz, Peso: 2.5 kg en gramos es 2500.0g.\n"
     ]
    }
   ],
   "source": [
    "# Ingrese el nombre del producto: Harina de maíz\n",
    "# Ingrese el peso en kilogramos: 2.5\n",
    "# El peso de Harina de maíz en gramos es 2500.0g.\n",
    "\n",
    "class Producto:\n",
    "    def __init__(self, nombre, peso_kilogramos):\n",
    "\n",
    "        self.nombre = nombre\n",
    "        self.peso_kilogramos = peso_kilogramos\n",
    "\n",
    "    def convertir_a_gramos(self):\n",
    "\n",
    "        return self.peso_kilogramos * 1000\n",
    "\n",
    "    def __str__(self):\n",
    "\n",
    "        return f\"Producto: {self.nombre}, Peso: {self.peso_kilogramos} kg\"\n",
    "\n",
    "nombre = input(\"Ingrese el nombre del producto: \")\n",
    "peso = float(input(\"Ingrese el peso en kilogramos: \"))\n",
    "producto = Producto(nombre, peso)\n",
    "peso_en_gramos = producto.convertir_a_gramos()\n",
    "print(f\"El peso de {producto} en gramos es {peso_en_gramos}g.\")"
   ]
  },
  {
   "cell_type": "markdown",
   "metadata": {
    "id": "Wm3F5KI1CXqn"
   },
   "source": [
    "## Ejercicio 3: Cálculo de Precio por Kilo\n",
    "Crea una función calcular_precio_por_kilo que reciba el nombre de un producto, su peso en gramos y su precio total. La función debe devolver el precio por kilogramo."
   ]
  },
  {
   "cell_type": "code",
   "execution_count": 8,
   "metadata": {
    "id": "MysaoEwuCZko"
   },
   "outputs": [
    {
     "name": "stdin",
     "output_type": "stream",
     "text": [
      "Ingrese el nombre del producto:  Concentrado\n",
      "Ingrese el peso del producto en gramos:  15000\n",
      "Ingrese el precio total del producto:  75000\n"
     ]
    },
    {
     "name": "stdout",
     "output_type": "stream",
     "text": [
      "Producto: Concentrado, Precio por kilogramo: $5000.00\n"
     ]
    }
   ],
   "source": [
    "# Ingrese el nombre del producto: Concentrado para perros\n",
    "# Ingrese el peso del producto en gramos: 15000\n",
    "# Ingrese el precio total del producto: 75000\n",
    "# Producto: Concentrado para perros, Precio por kilogramo: $5000.00\n",
    "\n",
    "\n",
    "def calcular_precio_por_kilo(nombre_producto, peso_gramos, precio_total):\n",
    "    if peso_gramos <= 0:\n",
    "        raise ValueError(\"El peso debe ser mayor que 0 gramos.\")\n",
    "    if precio_total < 0:\n",
    "        raise ValueError(\"El precio total no puede ser negativo.\")\n",
    "    peso_kilogramos = peso_gramos / 1000\n",
    "    precio_por_kilo = precio_total / peso_kilogramos\n",
    "    return precio_por_kilo\n",
    "nombre = input(\"Ingrese el nombre del producto: \")\n",
    "peso = int(input(\"Ingrese el peso del producto en gramos: \"))\n",
    "precio = float(input(\"Ingrese el precio total del producto: \"))\n",
    "\n",
    "precio_por_kilo = calcular_precio_por_kilo(nombre, peso, precio)\n",
    "print(f\"Producto: {nombre}, Precio por kilogramo: ${precio_por_kilo:.2f}\")"
   ]
  },
  {
   "cell_type": "markdown",
   "metadata": {
    "id": "hOPyJfSVDDwo"
   },
   "source": [
    "### Ejercicio 4: Inventario de Productos\n",
    "Crea una clase Inventario que permita agregar productos con su cantidad y precio. La clase debe tener un método mostrar_inventario que imprima todos los productos con su cantidad y precio."
   ]
  },
  {
   "cell_type": "code",
   "execution_count": 22,
   "metadata": {
    "id": "AktIseVvDF5E"
   },
   "outputs": [
    {
     "name": "stdin",
     "output_type": "stream",
     "text": [
      "Ingrese el nombre del producto (o 'salir' para terminar):  perro\n",
      "Ingrese la cantidad del producto:  a\n"
     ]
    },
    {
     "name": "stdout",
     "output_type": "stream",
     "text": [
      "Error: invalid literal for int() with base 10: 'a'. Intente nuevamente.\n"
     ]
    },
    {
     "name": "stdin",
     "output_type": "stream",
     "text": [
      "Ingrese la cantidad del producto:  a\n"
     ]
    },
    {
     "ename": "ValueError",
     "evalue": "invalid literal for int() with base 10: 'a'",
     "output_type": "error",
     "traceback": [
      "\u001b[1;31m---------------------------------------------------------------------------\u001b[0m",
      "\u001b[1;31mValueError\u001b[0m                                Traceback (most recent call last)",
      "Cell \u001b[1;32mIn[22], line 42\u001b[0m, in \u001b[0;36mmain\u001b[1;34m()\u001b[0m\n\u001b[0;32m     41\u001b[0m \u001b[38;5;28;01mtry\u001b[39;00m:\n\u001b[1;32m---> 42\u001b[0m     cantidad \u001b[38;5;241m=\u001b[39m \u001b[38;5;28mint\u001b[39m(\u001b[38;5;28minput\u001b[39m(\u001b[38;5;124m\"\u001b[39m\u001b[38;5;124mIngrese la cantidad del producto: \u001b[39m\u001b[38;5;124m\"\u001b[39m))\n\u001b[0;32m     43\u001b[0m     precio \u001b[38;5;241m=\u001b[39m \u001b[38;5;28mfloat\u001b[39m(\u001b[38;5;28minput\u001b[39m(\u001b[38;5;124m\"\u001b[39m\u001b[38;5;124mIngrese el precio del producto: \u001b[39m\u001b[38;5;124m\"\u001b[39m))\n",
      "\u001b[1;31mValueError\u001b[0m: invalid literal for int() with base 10: 'a'",
      "\nDuring handling of the above exception, another exception occurred:\n",
      "\u001b[1;31mValueError\u001b[0m                                Traceback (most recent call last)",
      "Cell \u001b[1;32mIn[22], line 55\u001b[0m\n\u001b[0;32m     52\u001b[0m     inventario\u001b[38;5;241m.\u001b[39mmostrar_inventario()\n\u001b[0;32m     54\u001b[0m \u001b[38;5;28;01mif\u001b[39;00m \u001b[38;5;18m__name__\u001b[39m \u001b[38;5;241m==\u001b[39m \u001b[38;5;124m\"\u001b[39m\u001b[38;5;124m__main__\u001b[39m\u001b[38;5;124m\"\u001b[39m:\n\u001b[1;32m---> 55\u001b[0m     main()\n",
      "Cell \u001b[1;32mIn[22], line 47\u001b[0m, in \u001b[0;36mmain\u001b[1;34m()\u001b[0m\n\u001b[0;32m     45\u001b[0m \u001b[38;5;28;01mexcept\u001b[39;00m \u001b[38;5;167;01mValueError\u001b[39;00m \u001b[38;5;28;01mas\u001b[39;00m e:\n\u001b[0;32m     46\u001b[0m     \u001b[38;5;28mprint\u001b[39m(\u001b[38;5;124mf\u001b[39m\u001b[38;5;124m\"\u001b[39m\u001b[38;5;124mError: \u001b[39m\u001b[38;5;132;01m{\u001b[39;00me\u001b[38;5;132;01m}\u001b[39;00m\u001b[38;5;124m. Intente nuevamente.\u001b[39m\u001b[38;5;124m\"\u001b[39m)\n\u001b[1;32m---> 47\u001b[0m     cantidad \u001b[38;5;241m=\u001b[39m \u001b[38;5;28mint\u001b[39m(\u001b[38;5;28minput\u001b[39m(\u001b[38;5;124m\"\u001b[39m\u001b[38;5;124mIngrese la cantidad del producto: \u001b[39m\u001b[38;5;124m\"\u001b[39m))\n\u001b[0;32m     48\u001b[0m     precio \u001b[38;5;241m=\u001b[39m \u001b[38;5;28mfloat\u001b[39m(\u001b[38;5;28minput\u001b[39m(\u001b[38;5;124m\"\u001b[39m\u001b[38;5;124mIngrese el precio del producto: \u001b[39m\u001b[38;5;124m\"\u001b[39m))\n\u001b[0;32m     49\u001b[0m     inventario\u001b[38;5;241m.\u001b[39magregar_producto(nombre, cantidad, precio)\n",
      "\u001b[1;31mValueError\u001b[0m: invalid literal for int() with base 10: 'a'"
     ]
    }
   ],
   "source": [
    "# Ingrese el nombre del producto (o 'salir' para terminar): Concentrado para gatos\n",
    "# Ingrese la cantidad del producto: 10\n",
    "# Ingrese el precio del producto: 50000\n",
    "# Ingrese el nombre del producto (o 'salir' para terminar): Harina de trigo\n",
    "# Ingrese la cantidad del producto: 20\n",
    "# Ingrese el precio del producto: 20000\n",
    "# Ingrese el nombre del producto (o 'salir' para terminar): salir\n",
    "# Producto: Concentrado para gatos, Cantidad: 10, Precio: $50000.00\n",
    "# Producto: Harina de trigo, Cantidad: 20, Precio: $20000.00\n",
    "\n",
    "\n",
    "class Inventario:\n",
    "    def __init__(self):\n",
    "        self.productos = {}\n",
    "    def agregar_producto(self, nombre_producto, cantidad, precio):\n",
    "        if cantidad <= 0:\n",
    "            raise ValueError(\"La cantidad debe ser mayor que 0.\")\n",
    "        if precio < 0:\n",
    "            raise ValueError(\"El precio no puede ser negativo.\")\n",
    "        self.productos[nombre_producto] = {\n",
    "            'cantidad': cantidad,\n",
    "            'precio': precio\n",
    "        }\n",
    "    def mostrar_inventario(self):\n",
    "        if not self.productos:\n",
    "            print(\"El inventario está vacío.\")\n",
    "            return\n",
    "        for nombre_producto, datos in self.productos.items():\n",
    "            cantidad = datos['cantidad']\n",
    "            precio = datos['precio']\n",
    "            print(f\"Producto: {nombre_producto}, Cantidad: {cantidad}, Precio: ${precio:.2f}\")\n",
    "    \n",
    "def main():\n",
    "    inventario = Inventario()\n",
    "            \n",
    "    while True:\n",
    "        nombre = input(\"Ingrese el nombre del producto (o 'salir' para terminar): \")\n",
    "        if nombre.lower() == 'salir':\n",
    "            break\n",
    "        \n",
    "        try:\n",
    "            cantidad = int(input(\"Ingrese la cantidad del producto: \"))\n",
    "            precio = float(input(\"Ingrese el precio del producto: \"))\n",
    "            inventario.agregar_producto(nombre, cantidad, precio)\n",
    "        except ValueError as e:\n",
    "            print(f\"Error: {e}. Intente nuevamente.\")\n",
    "            \n",
    "    \n",
    "    inventario.mostrar_inventario()\n",
    "\n",
    "if __name__ == \"__main__\":\n",
    "    main()"
   ]
  },
  {
   "cell_type": "markdown",
   "metadata": {
    "id": "SBrGb34YDNib"
   },
   "source": [
    "### Ejercicio 5: Promoción de Productos\n",
    "Crea una clase ProductoPromocion que herede de Producto y agregue un atributo adicional porcentaje_descuento. Añade un método calcular_precio_promocion que devuelva el precio final después de aplicar el descuento."
   ]
  },
  {
   "cell_type": "code",
   "execution_count": 12,
   "metadata": {
    "id": "8xW5A7g_DQ65"
   },
   "outputs": [
    {
     "name": "stdin",
     "output_type": "stream",
     "text": [
      "Ingrese el nombre del producto:  Avena\n",
      "Ingrese el precio del producto:  12000\n",
      "Ingrese el porcentaje de descuento:  15\n"
     ]
    },
    {
     "name": "stdout",
     "output_type": "stream",
     "text": [
      "Precio final de Maiz después del descuento: $10200.00\n"
     ]
    }
   ],
   "source": [
    "# Ingrese el nombre del producto: Avena en hojuelas\n",
    "# Ingrese el precio del producto: 12000\n",
    "# Ingrese el porcentaje de descuento: 15\n",
    "# Precio final de Avena en hojuelas después del descuento: $10200.00\n",
    "\n",
    "\n",
    "class Producto:\n",
    "    def __init__(self, nombre, precio):\n",
    "\n",
    "        self.nombre = nombre\n",
    "        self.precio = precio\n",
    "\n",
    "    def __str__(self):\n",
    "\n",
    "        return f\"Producto: {self.nombre}, Precio: ${self.precio:.2f}\"\n",
    "\n",
    "\n",
    "class ProductoPromocion(Producto):\n",
    "    def __init__(self, nombre, precio, porcentaje_descuento):\n",
    "\n",
    "        super().__init__(nombre, precio)\n",
    "        self.porcentaje_descuento = porcentaje_descuento\n",
    "\n",
    "    def calcular_precio_promocion(self):\n",
    "\n",
    "        descuento = (self.precio * self.porcentaje_descuento) / 100\n",
    "        precio_final = self.precio - descuento\n",
    "        return precio_final\n",
    "\n",
    "    def __str__(self):\n",
    "\n",
    "        return f\"{super().__str__()}, Descuento: {self.porcentaje_descuento}%\"\n",
    "\n",
    "\n",
    "nombre_producto = input(\"Ingrese el nombre del producto: \")\n",
    "precio_producto = int(input(\"Ingrese el precio del producto: \"))\n",
    "descuento_producto = int(input(\"Ingrese el porcentaje de descuento: \"))\n",
    "\n",
    "producto_promocion = ProductoPromocion(nombre_producto, precio_producto, descuento_producto)\n",
    "\n",
    "precio_con_descuento = producto_promocion.calcular_precio_promocion()\n",
    "print(f\"Precio final de {producto.nombre} después del descuento: ${precio_con_descuento:.2f}\")"
   ]
  }
 ],
 "metadata": {
  "colab": {
   "provenance": []
  },
  "kernelspec": {
   "display_name": "Python 3 (ipykernel)",
   "language": "python",
   "name": "python3"
  },
  "language_info": {
   "codemirror_mode": {
    "name": "ipython",
    "version": 3
   },
   "file_extension": ".py",
   "mimetype": "text/x-python",
   "name": "python",
   "nbconvert_exporter": "python",
   "pygments_lexer": "ipython3",
   "version": "3.12.4"
  }
 },
 "nbformat": 4,
 "nbformat_minor": 4
}
