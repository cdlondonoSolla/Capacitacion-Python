{
 "cells": [
  {
   "cell_type": "markdown",
   "metadata": {},
   "source": [
    "# __Condicionales y bucles__  \n"
   ]
  },
  {
   "cell_type": "code",
   "execution_count": 9,
   "metadata": {},
   "outputs": [],
   "source": [
    "# Condicional if\n",
    "\n",
    "edad = 14\n",
    "\n",
    "if edad > 18 or edad == 18:\n",
    "    print(\"Es mayor de edad\")\n",
    "\n",
    "# Operadores\n",
    " \n",
    "# + sumar\n",
    "# - restar\n",
    "# / divider\n",
    "# * multiplicar\n",
    "\n",
    "# > mayor que\n",
    "# < menor que\n",
    "# == Igual que\n",
    "# >= Mayor o igual que\n",
    "# <= Menor o igual que\n",
    "\n",
    "# and\n",
    "# or\n"
   ]
  },
  {
   "cell_type": "code",
   "execution_count": 5,
   "metadata": {},
   "outputs": [
    {
     "name": "stdout",
     "output_type": "stream",
     "text": [
      "Es menor de edad\n"
     ]
    }
   ],
   "source": [
    "# Condicional else\n",
    "\n",
    "if edad > 18 or edad == 18:\n",
    "    print(\"Es mayor de edad\")\n",
    "else:\n",
    "    print(\"Es menor de edad\")"
   ]
  },
  {
   "cell_type": "code",
   "execution_count": 10,
   "metadata": {},
   "outputs": [
    {
     "name": "stdout",
     "output_type": "stream",
     "text": [
      "En un adulto\n"
     ]
    }
   ],
   "source": [
    "# Condicional elif\n",
    "edad = 68\n",
    "\n",
    "if edad > 12 and edad <= 18:\n",
    "    print(\"Es un adolecente\")\n",
    "elif edad > 35:\n",
    "    print(\"En un adulto\")\n",
    "else:\n",
    "    print(\"No se que es\")"
   ]
  },
  {
   "cell_type": "code",
   "execution_count": 13,
   "metadata": {},
   "outputs": [
    {
     "name": "stdout",
     "output_type": "stream",
     "text": [
      "Eres un tester\n"
     ]
    }
   ],
   "source": [
    "# Condicional match case\n",
    "\n",
    "cargo = input(\"introduce tu cargo: \")\n",
    "\n",
    "match cargo:\n",
    "    case \"Desarrollador\":\n",
    "        print(\"Eres un desarrollador\")\n",
    "    case \"Analista\":\n",
    "        print(\"Eres un analista\")\n",
    "    case \"Tester\":\n",
    "        print(\"Eres un tester\")"
   ]
  },
  {
   "cell_type": "code",
   "execution_count": 21,
   "metadata": {},
   "outputs": [
    {
     "name": "stdout",
     "output_type": "stream",
     "text": [
      "Cuenta inactiva, contacte a soporte\n"
     ]
    }
   ],
   "source": [
    "# Validación de estados de cuentas\n",
    "\n",
    "lista_de_cuentas = [\n",
    "    {\n",
    "        \"Nro\": \"012-0000145-874\",\n",
    "        \"esta_activa\": True,\n",
    "        \"username\": \"fabiovelez00\",\n",
    "        \"nombre_completo\": \"FABIO ALEXANDER VELEZ\",\n",
    "        \"correo\": \"fabio@mail.com\",\n",
    "        \"ping\": \"1238\",\n",
    "        \"fondos\": \"6.000.000 COP\"\n",
    "    },\n",
    "    {\n",
    "        \"Nro\": \"012-0000145-874\",\n",
    "        \"esta_activa\": False,\n",
    "        \"username\": \"lorenamarquez00\",\n",
    "        \"nombre_completo\": \"LORENA PATRICIA MARQUEZ\",\n",
    "        \"correo\": \"lorena@mail.com\",\n",
    "        \"ping\": \"3398\",\n",
    "        \"fondos\": \"0 COP\"\n",
    "    },\n",
    "    {\n",
    "        \"Nro\": \"012-0000145-877\",\n",
    "        \"esta_activa\": True,\n",
    "        \"username\": \"pedroyepez\",\n",
    "        \"nombre_completo\": \"PEDRO MAURICIO YEPEZ\",\n",
    "        \"correo\": \"pedro@mail.com\",\n",
    "        \"ping\": \"4157\",\n",
    "        \"fondos\": \"7.001.500 COP\"\n",
    "    },\n",
    "    {\n",
    "        \"Nro\": \"013-0000145-874\",\n",
    "        \"esta_activa\": True,\n",
    "        \"username\": \"anarodriguez14\",\n",
    "        \"nombre_completo\": \"ANA LUCIA RODRIGUEZ\",\n",
    "        \"correo\": \"ana@mail.com\",\n",
    "        \"ping\": \"8741\",\n",
    "        \"fondos\": \"640.000 COP\"\n",
    "    }\n",
    "]\n",
    "\n",
    "usuario = input(\"Por favor, introduce tu usuario: \")\n",
    "ping = input(\"Por favor, introduce tu ping: \")\n",
    "encontrado = False\n",
    "\n",
    "for cuenta in lista_de_cuentas:\n",
    "    if usuario == cuenta[\"username\"]:\n",
    "        encontrado = True\n",
    "        if not cuenta[\"esta_activa\"]:\n",
    "            print(\"Cuenta inactiva, contacte a soporte\")\n",
    "            break\n",
    "        if ping == cuenta[\"ping\"]:\n",
    "            info_cuenta = f\"\"\"\n",
    "            USERNAME: {cuenta.get(\"username\")}\n",
    "            NOMBRE COMPLETO: {cuenta.get(\"nombre_completo\")}\n",
    "            CORREO: {cuenta.get(\"correo\")}\n",
    "            CUENTA NRO: {cuenta.get(\"Nro\")}\n",
    "            FONDOS: {cuenta.get(\"fondos\")}\n",
    "            \"\"\"\n",
    "            print(info_cuenta)\n",
    "        else:\n",
    "            print(\"Contraseña incorrecta\")\n",
    "\n",
    "if encontrado:\n",
    "    pass\n",
    "else:\n",
    "    print(\"El usuario no existe o constraseña incorrecta\")\n"
   ]
  },
  {
   "cell_type": "markdown",
   "metadata": {},
   "source": [
    "# __Estructuras de datos__"
   ]
  },
  {
   "cell_type": "code",
   "execution_count": 37,
   "metadata": {},
   "outputs": [
    {
     "name": "stdout",
     "output_type": "stream",
     "text": [
      "Manuel\n",
      "Ana\n",
      "['Frank', 'Julio']\n",
      "[1, 5, 9]\n",
      "Adidas\n",
      "[{'zapato': 'Adidas'}, {'zapato': 'Converse'}, {'zapato': '12'}, {'zapato': 'Caminando con bendición'}]\n"
     ]
    }
   ],
   "source": [
    "# Listas\n",
    "\n",
    "nombres_de_alumnos = [\"Frank\", \"Julio\", \"Manuel\", \"Maria\", \"Ana\"]\n",
    "\n",
    "print(nombres_de_alumnos[2]) # Acceder a posiciones de la lista\n",
    "\n",
    "print(nombres_de_alumnos[-1]) # Acceder a la ultima posición de la lista\n",
    "\n",
    "print(nombres_de_alumnos[0:2]) # Slices: dividir la lista\n",
    "\n",
    "lista_de_numeros = [1, 2, 3, 4, 5, 6, 7, 8, 9, 10]\n",
    "\n",
    "lista_de_pares = lista_de_numeros[::4] # Recorrer por saltos\n",
    "\n",
    "print(lista_de_pares)\n",
    "\n",
    "lista_de_zapatos_vacia = []\n",
    "\n",
    "lista_de_zapatos_vacia.append(\"Nike\") # Agregar elementos a la lista\n",
    "lista_de_zapatos_vacia.append([\"Adidas\", \"Converse\", \"12\", \"Caminando con bendición\"]) \n",
    "\n",
    "print(lista_de_zapatos_vacia[1][0])\n",
    "\n",
    "# List comprehesion\n",
    "lista_mapeada = [{\"zapato\": zapato} for zapato in lista_de_zapatos_vacia[1] if type(zapato) == str]\n",
    "\n",
    "print(lista_mapeada)"
   ]
  },
  {
   "cell_type": "code",
   "execution_count": 47,
   "metadata": {},
   "outputs": [
    {
     "data": {
      "text/plain": [
       "dict_values([[{'dato': 'cuañquier 1'}, {'dato2': 'cuañquier 2'}, {'dato3': 'cuañquier 3'}, {'dato4': 'cuañquier 4'}, {'dato5': 'cuañquier 5'}, {'dato6': 'cuañquier 6'}, {'dato7': 'cuañquier 7'}], None])"
      ]
     },
     "execution_count": 47,
     "metadata": {},
     "output_type": "execute_result"
    }
   ],
   "source": [
    "# Diccionarios\n",
    "\n",
    "datos = {\n",
    "    \"data\": [\n",
    "        {\"dato\": \"cuañquier 1\"},\n",
    "        {\"dato2\": \"cuañquier 2\"},\n",
    "        {\"dato3\": \"cuañquier 3\"},\n",
    "        {\"dato4\": \"cuañquier 4\"},\n",
    "        {\"dato5\": \"cuañquier 5\"},\n",
    "        {\"dato6\": \"cuañquier 6\"},\n",
    "        {\"dato7\": \"cuañquier 7\"},\n",
    "    ],\n",
    "    \"result\": None\n",
    "}\n",
    "\n",
    "datos.get(\"data1\", \"No se encontró nada\") # Acceso mediante método get\n",
    "#datos[\"data1\"] # Acceso mediante clave\n",
    "\n",
    "datos[\"data\"][5][\"dato6\"]\n",
    "\n",
    "datos.keys() # Ver las claves de un diccionario\n",
    "\n",
    "datos.values() # Devuelve el valor de todas las claves\n"
   ]
  },
  {
   "cell_type": "code",
   "execution_count": 56,
   "metadata": {},
   "outputs": [
    {
     "data": {
      "text/plain": [
       "2"
      ]
     },
     "execution_count": 56,
     "metadata": {},
     "output_type": "execute_result"
    }
   ],
   "source": [
    "# Tuplas\n",
    "\n",
    "dni_pueblo_tupla = (100241245, 100014751, 75112544)\n",
    "dni_pueblo_lista = [100241245, 100014751, 75112544]\n",
    "\n",
    "dni_pueblo_tupla.index(100241245)\n",
    "dni_pueblo_lista.index(75112544)\n"
   ]
  },
  {
   "cell_type": "code",
   "execution_count": 66,
   "metadata": {},
   "outputs": [
    {
     "data": {
      "text/plain": [
       "{1003, 10001, 10002}"
      ]
     },
     "execution_count": 66,
     "metadata": {},
     "output_type": "execute_result"
    }
   ],
   "source": [
    "# Conjuntos\n",
    "\n",
    "id_usuarios = {10002, 10001, 10003}\n",
    "\n",
    "id_usuarios.add(10004) # Agregar\n",
    "\n",
    "id_usuarios.add(10004)\n",
    "\n",
    "id_usuarios.remove(10004) # Remover valor\n",
    "\n",
    "id_usuarios"
   ]
  }
 ],
 "metadata": {
  "kernelspec": {
   "display_name": "Python 3",
   "language": "python",
   "name": "python3"
  },
  "language_info": {
   "codemirror_mode": {
    "name": "ipython",
    "version": 3
   },
   "file_extension": ".py",
   "mimetype": "text/x-python",
   "name": "python",
   "nbconvert_exporter": "python",
   "pygments_lexer": "ipython3",
   "version": "3.12.4"
  }
 },
 "nbformat": 4,
 "nbformat_minor": 2
}
