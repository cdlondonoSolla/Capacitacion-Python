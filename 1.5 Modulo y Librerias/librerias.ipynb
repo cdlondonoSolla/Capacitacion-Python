{
 "cells": [
  {
   "cell_type": "code",
   "execution_count": null,
   "metadata": {},
   "outputs": [],
   "source": [
    "import pandas as pd\n",
    "\n",
    "\n",
    "def limpiar_texto(texto: str):\n",
    "    return texto.split()\n",
    "\n",
    "datos_solla = {\n",
    "    'producto': ['Alimento para perros', 'Alimento para gatos', 'Alimento para Aves', 'Suplemto para bovino'],\n",
    "    'udidad_de_medida': ['kilos', 'kilos', 'bultos', 'lejas'],\n",
    "    'cantidad_vendida': [1500, 1200, 3000, 800],\n",
    "    'precio_unitario': [5000, 6000, 4000, 7000]\n",
    "}\n",
    "\n",
    "dataframe = pd.DataFrame(datos_solla)\n",
    "dataframe['producto'] = dataframe['producto']\n",
    "dataframe['ingresos'] = dataframe['cantidad_vendida'] * dataframe['precio_unitario']\n",
    "\n",
    "dataframe"
   ]
  },
  {
   "cell_type": "code",
   "execution_count": null,
   "metadata": {},
   "outputs": [],
   "source": [
    "import matplotlib.pyplot as plt\n",
    "\n",
    "\n",
    "productos = ['Alimento para perros', 'Alimento para gatos', 'Alimento para Aves', 'Suplemto para bovino']\n",
    "ventas = [1500, 1200, 3000, 800]\n",
    "\n",
    "plt.figure(figsize=(10, 6))\n",
    "plt.bar(productos, ventas, color='skyblue')\n",
    "\n"
   ]
  }
 ],
 "metadata": {
  "kernelspec": {
   "display_name": "Python 3",
   "language": "python",
   "name": "python3"
  },
  "language_info": {
   "codemirror_mode": {
    "name": "ipython",
    "version": 3
   },
   "file_extension": ".py",
   "mimetype": "text/x-python",
   "name": "python",
   "nbconvert_exporter": "python",
   "pygments_lexer": "ipython3",
   "version": "3.12.4"
  }
 },
 "nbformat": 4,
 "nbformat_minor": 2
}
