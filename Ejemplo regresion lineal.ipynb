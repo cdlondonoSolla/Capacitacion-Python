{
  "cells": [
    {
      "cell_type": "markdown",
      "metadata": {
        "id": "ZoZ4sFWNxe8M"
      },
      "source": [
        "Numpy es una biblioteca fundamental para la computación cientifica en python."
      ]
    },
    {
      "cell_type": "code",
      "execution_count": null,
      "metadata": {
        "id": "I3ud0FSjxxtk"
      },
      "outputs": [],
      "source": [
        "# Importar biblioteca numpy\n",
        "import numpy as np\n",
        "import pandas as pd\n",
        "import matplotlib.pyplot as plt\n",
        "from sklearn.linear_model import LinearRegression\n",
        "from sklearn.model_selection import train_test_split\n",
        "from sklearn.metrics import mean_squared_error, r2_score\n",
        "\n"
      ]
    },
    {
      "cell_type": "code",
      "execution_count": null,
      "metadata": {
        "colab": {
          "base_uri": "https://localhost:8080/"
        },
        "id": "QXSpmZnzyRVh",
        "outputId": "c2480c9c-153e-4e97-f8cf-67cce12337af"
      },
      "outputs": [
        {
          "data": {
            "text/plain": [
              "[[1, 2, 3], [4, 5, 6]]"
            ]
          },
          "execution_count": 3,
          "metadata": {},
          "output_type": "execute_result"
        }
      ],
      "source": [
        "# np.array() Crea un Array a partir de una lista o una tupla\n",
        "\n",
        "lista_de_numeros = [1, 3, 5, 6, 7]\n",
        "array_np = np.array(lista_de_numeros)\n",
        "\n",
        "# Multidimensional\n",
        "\n",
        "lista_md = [[1, 2, 3], [4, 5, 6]]\n",
        "lista_md"
      ]
    },
    {
      "cell_type": "code",
      "execution_count": null,
      "metadata": {
        "colab": {
          "base_uri": "https://localhost:8080/"
        },
        "id": "w3upo9bUzztj",
        "outputId": "27f0f407-0179-4d2f-f47c-33daee22a597"
      },
      "outputs": [
        {
          "data": {
            "text/plain": [
              "array([[0., 0., 0., 0.],\n",
              "       [0., 0., 0., 0.],\n",
              "       [0., 0., 0., 0.]])"
            ]
          },
          "execution_count": 4,
          "metadata": {},
          "output_type": "execute_result"
        }
      ],
      "source": [
        "# np.zeros() Crea un array de ceros\n",
        "\n",
        "array_zeros = np.zeros((3, 4))\n",
        "array_zeros"
      ]
    },
    {
      "cell_type": "code",
      "execution_count": null,
      "metadata": {
        "colab": {
          "base_uri": "https://localhost:8080/"
        },
        "id": "qV8OxPHJ0U19",
        "outputId": "b75fd99a-6a62-4308-c15a-b937152eee68"
      },
      "outputs": [
        {
          "data": {
            "text/plain": [
              "array([[1., 1., 1., 1.],\n",
              "       [1., 1., 1., 1.],\n",
              "       [1., 1., 1., 1.]])"
            ]
          },
          "execution_count": 6,
          "metadata": {},
          "output_type": "execute_result"
        }
      ],
      "source": [
        "# np.ones() Crea un array de unos\n",
        "\n",
        "array_unos = np.ones((3, 4))\n",
        "array_unos"
      ]
    },
    {
      "cell_type": "code",
      "execution_count": null,
      "metadata": {
        "colab": {
          "base_uri": "https://localhost:8080/"
        },
        "id": "9yx1_GK-1OTQ",
        "outputId": "78cedadc-5f77-44f6-96d4-a76da74f89b1"
      },
      "outputs": [
        {
          "data": {
            "text/plain": [
              "array([0, 2, 4, 6, 8])"
            ]
          },
          "execution_count": 7,
          "metadata": {},
          "output_type": "execute_result"
        }
      ],
      "source": [
        "# np.arange() Crea un array con valores espaciados uniformemente\n",
        "\n",
        "array_rangos = np.arange(0, 10, 2)\n",
        "array_rangos"
      ]
    },
    {
      "cell_type": "code",
      "execution_count": null,
      "metadata": {
        "colab": {
          "base_uri": "https://localhost:8080/"
        },
        "id": "wg5X2obS1z9u",
        "outputId": "d9f8d8ef-d8d7-458d-f8a8-9816b33e4e30"
      },
      "outputs": [
        {
          "name": "stdout",
          "output_type": "stream",
          "text": [
            "[10000, 10748, 11496, 12244, 12992, 13740, 14488, 15236, 15984, 16732, 17480, 18228, 18976, 19724]\n",
            "La media: 14862.0\n",
            "La mediana: 14862.0\n",
            "Desviación estándar: 3015.2843978636574\n",
            "Total de ventas: 208068\n"
          ]
        }
      ],
      "source": [
        "# np.add() Suma 2 arrays\n",
        "list1 = [1, 5, 7]\n",
        "list2 = [2, 8, 9]\n",
        "suma_list = list1 + list2\n",
        "\n",
        "arr1 = np.array([1, 5, 7])\n",
        "arr2 = np.array([2, 8, 9])\n",
        "\n",
        "# Sumar arrays\n",
        "suma_arr = np.add(arr1, arr2)\n",
        "\n",
        "# Restar arrays\n",
        "resta_arr = np.subtract(arr1, arr2)\n",
        "\n",
        "# Dividir arrays\n",
        "divicion_arr = np.divide(arr1, arr2)\n",
        "divicion_arr\n",
        "\n",
        "# Multiplicar arrays\n",
        "mult_arr = np.multiply(arr1, arr2)\n",
        "mult_arr\n",
        "\n",
        "# Producto entre dos arrays\n",
        "prod_arr = np.dot(arr1, arr2)\n",
        "prod_arr\n",
        "\n",
        "ventas_de_suplemento_bovinos_mes_agosto = range(10000, 20000, 748)\n",
        "ventas_de_suplemento_bovinos_mes_agosto\n",
        "\n",
        "ventas_agosto = list(ventas_de_suplemento_bovinos_mes_agosto)\n",
        "print(ventas_agosto)\n",
        "arr_ventas = np.array(ventas_agosto)\n",
        "\n",
        "# Calcular media de un array\n",
        "print(f\"La media: {arr_ventas.mean()}\")\n",
        "print(f\"La mediana: {np.median(arr_ventas)}\")\n",
        "print(f\"Desviación estándar: {np.std(arr_ventas)}\")\n",
        "\n",
        "# sumar todos los valores de un array\n",
        "total_ventas = np.sum(arr_ventas)\n",
        "print(f\"Total de ventas: {total_ventas}\")"
      ]
    },
    {
      "cell_type": "code",
      "execution_count": null,
      "metadata": {
        "id": "vQGQ6plB-2tw"
      },
      "outputs": [],
      "source": [
        "# Regresion Lineal:\n",
        "\n",
        "# Variables independietes en la predicción del precio de una casa:\n",
        "# - Tamaño\n",
        "# - Estrato\n",
        "# - habitaciones\n",
        "# - Edad de la propiedad\n",
        "# - Ubicación\n",
        "# Variable dependiente en la predicción del precio de una casa:\n",
        "# - precio\n",
        "\n",
        "# ¿Como funciona?\n",
        "# - Datos: Se recolectan datos sobre las variables independientes y dependientes.\n",
        "# - Preprocesamiento: Limpieza de datos.\n",
        "# - Modelo: Se ajusta una linea recta a los datos, buscando la que mejor se ajuste a los puntos."
      ]
    },
    {
      "cell_type": "code",
      "execution_count": null,
      "metadata": {
        "colab": {
          "base_uri": "https://localhost:8080/",
          "height": 508
        },
        "id": "7hvBRwcpCVqN",
        "outputId": "48771416-3c1d-4793-fdad-151d017424ca"
      },
      "outputs": [
        {
          "data": {
            "image/png": "[encoded data removed]",
            "text/plain": [
              "<Figure size 640x480 with 1 Axes>"
            ]
          },
          "metadata": {},
          "output_type": "display_data"
        },
        {
          "name": "stdout",
          "output_type": "stream",
          "text": [
            "Intercepción: [4.22215108]\n",
            "Coeficiente: [[2.96846751]]\n"
          ]
        }
      ],
      "source": [
        "np.random.seed(0)\n",
        "X = 2 * np.random.rand(100, 1)\n",
        "y = 4 + 3 * X + np.random.randn(100, 1)\n",
        "\n",
        "# Crear el modelo de regresion lineal\n",
        "model = LinearRegression()\n",
        "model.fit(X, y)\n",
        "\n",
        "# Predecir\n",
        "X_new = np.array([[0], [2]])\n",
        "Y_predict = model.predict(X_new)\n",
        "\n",
        "# Vizualizar los resultados\n",
        "plt.scatter(X, y, color=\"blue\")\n",
        "plt.plot(X_new, Y_predict, color=\"red\")\n",
        "plt.xlabel(\"X\")\n",
        "plt.ylabel(\"Y\")\n",
        "plt.title(\"Regresion Lineal Simple\")\n",
        "plt.show()\n",
        "\n",
        "print(f\"Intercepción: {model.intercept_}\")\n",
        "print(f\"Coeficiente: {model.coef_}\")\n",
        "\n",
        "\n"
      ]
    }
  ],
  "metadata": {
    "colab": {
      "provenance": []
    },
    "kernelspec": {
      "display_name": "Python 3",
      "name": "python3"
    },
    "language_info": {
      "name": "python"
    }
  },
  "nbformat": 4,
  "nbformat_minor": 0
}
