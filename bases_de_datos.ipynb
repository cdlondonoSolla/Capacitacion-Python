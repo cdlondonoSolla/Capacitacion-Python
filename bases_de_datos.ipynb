{
  "nbformat": 4,
  "nbformat_minor": 0,
  "metadata": {
    "colab": {
      "provenance": []
    },
    "kernelspec": {
      "name": "python3",
      "display_name": "Python 3"
    },
    "language_info": {
      "name": "python"
    }
  },
  "cells": [
    {
      "cell_type": "code",
      "source": [
        "# SQLite3 es un motor de bases de datos\n",
        "import sqlite3\n",
        "import pandas as pd\n",
        "\n",
        "# Crea o abre un archivo de base de datos\n",
        "db_conn = sqlite3.connect('productos_solla.db')\n",
        "\n",
        "# Crear cursor\n",
        "cursor_db = db_conn.cursor()"
      ],
      "metadata": {
        "id": "i91I6nYcWIFP"
      },
      "execution_count": 3,
      "outputs": []
    },
    {
      "cell_type": "code",
      "source": [
        "# Crear tablas\n",
        "# CREATE TABLE\n",
        "cursor_db.execute(\n",
        "    \"\"\"\n",
        "    CREATE TABLE IF NOT EXISTS productos (\n",
        "      id INTEGER PRIMARY KEY,\n",
        "      name TEXT NOT NULL,\n",
        "      und_empaque TEXT,\n",
        "      color TEXT,\n",
        "      linea TEXT,\n",
        "      codigo INTEGER\n",
        "    )\n",
        "    \"\"\"\n",
        ")"
      ],
      "metadata": {
        "colab": {
          "base_uri": "https://localhost:8080/"
        },
        "id": "zQtp1m9tYhx5",
        "outputId": "9acdf694-2210-4b05-e08e-978445b5c9e9"
      },
      "execution_count": 5,
      "outputs": [
        {
          "output_type": "execute_result",
          "data": {
            "text/plain": [
              "<sqlite3.Cursor at 0x7848cf4c19c0>"
            ]
          },
          "metadata": {},
          "execution_count": 5
        }
      ]
    },
    {
      "cell_type": "code",
      "source": [
        "# Insertar datos en tablas\n",
        "# INSERT INTO productos (name, und_empaque, color, linea, codigo)\n",
        "\n",
        "cursor_db.execute(\n",
        "    \"\"\"\n",
        "    INSERT INTO productos (name, und_empaque, color, linea, codigo)\n",
        "    VALUES\n",
        "    ('Alimento Concentrado para Bovinos', 'saco', 'Marrón', 'Balanceados', 78452365),\n",
        "    ('Premezcla Vitaminada para Bovinos', 'bolsa', 'Blanco', 'Suplementos', 78451112),\n",
        "    ('Alimento Concentrado para Ganado', 'saco', 'Marrón', 'Balanceados', 6965874),\n",
        "    ('Premezcla Vitaminada para Ganado', 'bolsa', 'Blanco', 'Suplementos', 6562141),\n",
        "    ('Chanchitos', 'unidad', 'Rosado', 'Porcicultura', 78451122)\n",
        "    \"\"\"\n",
        ")"
      ],
      "metadata": {
        "colab": {
          "base_uri": "https://localhost:8080/"
        },
        "id": "ywEvkXBYeW_e",
        "outputId": "762ba94b-3b49-4c6d-c8f2-886ca2ec7a45"
      },
      "execution_count": 7,
      "outputs": [
        {
          "output_type": "execute_result",
          "data": {
            "text/plain": [
              "<sqlite3.Cursor at 0x7848cf4c19c0>"
            ]
          },
          "metadata": {},
          "execution_count": 7
        }
      ]
    },
    {
      "cell_type": "code",
      "source": [
        "# Leer datos de tablas\n",
        "# SELECT campo o campos FROM tabla\n",
        "\n",
        "cursor_db.execute(\n",
        "    \"SELECT * FROM productos\"\n",
        ")\n",
        "datos_productos = cursor_db.fetchall()\n",
        "for fila in datos_productos:\n",
        "  print(fila)"
      ],
      "metadata": {
        "colab": {
          "base_uri": "https://localhost:8080/"
        },
        "id": "s3OnV1YHhHBq",
        "outputId": "94279a7f-36c7-4f7e-b240-86f21bc428a7"
      },
      "execution_count": 16,
      "outputs": [
        {
          "output_type": "stream",
          "name": "stdout",
          "text": [
            "(1, 'Alimento Concentrado para Bovinos', 'saco', 'Marrón', 'Balanceados', 78452365)\n",
            "(2, 'Premezcla Vitaminada para Bovinos', 'bolsa', 'Blanco', 'Suplemento', 78451112)\n",
            "(3, 'Alimento Concentrado para Ganado', 'saco', 'Marrón', 'Balanceados', 6965874)\n",
            "(4, 'Premezcla Vitaminada para Ganado', 'bolsa', 'Blanco', 'Suplemento', 6562141)\n"
          ]
        }
      ]
    },
    {
      "cell_type": "code",
      "source": [
        "# Actualizar datos\n",
        "# UPDATE tabla SET campo = valor WHERE condicion verdadera\n",
        "\n",
        "cursor_db.execute(\n",
        "    \"UPDATE productos SET linea = 'Suplemento' WHERE linea = 'Suplementos'\"\n",
        ")"
      ],
      "metadata": {
        "colab": {
          "base_uri": "https://localhost:8080/"
        },
        "id": "HOb37GjDkfW7",
        "outputId": "5798e2f1-931d-45af-8a9d-6691b7825020"
      },
      "execution_count": 13,
      "outputs": [
        {
          "output_type": "execute_result",
          "data": {
            "text/plain": [
              "<sqlite3.Cursor at 0x7848cf4c19c0>"
            ]
          },
          "metadata": {},
          "execution_count": 13
        }
      ]
    },
    {
      "cell_type": "code",
      "source": [
        "# Eliminar datos\n",
        "# DELETE FROM (Utilizar siempre con una condición where)\n",
        "cursor_db.execute(\n",
        "    \"DELETE FROM productos WHERE codigo = 78451122\"\n",
        ")"
      ],
      "metadata": {
        "colab": {
          "base_uri": "https://localhost:8080/"
        },
        "id": "PdkwJIBZm1FI",
        "outputId": "cb30443b-65b0-49f7-b5cf-14e74d45be74"
      },
      "execution_count": 15,
      "outputs": [
        {
          "output_type": "execute_result",
          "data": {
            "text/plain": [
              "<sqlite3.Cursor at 0x7848cf4c19c0>"
            ]
          },
          "metadata": {},
          "execution_count": 15
        }
      ]
    }
  ]
}