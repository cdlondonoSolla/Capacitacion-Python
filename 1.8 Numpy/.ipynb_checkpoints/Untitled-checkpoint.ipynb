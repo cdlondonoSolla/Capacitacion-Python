{
 "cells": [
  {
   "cell_type": "markdown",
   "id": "a3bed783-e79e-42fc-a985-152816337f88",
   "metadata": {},
   "source": [
    "# Numpy es una biblioteca fundamental para la computacion cientifica\n"
   ]
  },
  {
   "cell_type": "code",
   "execution_count": 1,
   "id": "6e11bfdf-79e9-4bd3-9243-db88c60c6c18",
   "metadata": {},
   "outputs": [],
   "source": [
    "import numpy as np"
   ]
  },
  {
   "cell_type": "code",
   "execution_count": 4,
   "id": "5f1c2963-84cf-4d55-b982-d639825ab373",
   "metadata": {},
   "outputs": [
    {
     "data": {
      "text/plain": [
       "[[1, 2, 3], [4, 5, 6]]"
      ]
     },
     "execution_count": 4,
     "metadata": {},
     "output_type": "execute_result"
    }
   ],
   "source": [
    "lista_numeros = [1,3,5,6,7,9]\n",
    "\n",
    "array_np = np.array(lista_numeros)\n",
    "\n",
    "array_np\n",
    "\n",
    "# Multidimensional\n",
    "lista_md = [[1,2,3],[4,5,6]]\n",
    "lista_md"
   ]
  },
  {
   "cell_type": "code",
   "execution_count": 5,
   "id": "08988eed-5ef5-4e70-9b5e-4f33f24799a5",
   "metadata": {},
   "outputs": [
    {
     "data": {
      "text/plain": [
       "array([[0., 0., 0., 0.],\n",
       "       [0., 0., 0., 0.],\n",
       "       [0., 0., 0., 0.]])"
      ]
     },
     "execution_count": 5,
     "metadata": {},
     "output_type": "execute_result"
    }
   ],
   "source": [
    "# np.zeros() Crea un array de ceros\n",
    "\n",
    "array_zeros = np.zeros((3, 4))\n",
    "array_zeros"
   ]
  },
  {
   "cell_type": "code",
   "execution_count": 6,
   "id": "cf968781-d69e-4ae1-afdc-9cc4135b5539",
   "metadata": {},
   "outputs": [
    {
     "data": {
      "text/plain": [
       "array([[1., 1., 1., 1.],\n",
       "       [1., 1., 1., 1.],\n",
       "       [1., 1., 1., 1.]])"
      ]
     },
     "execution_count": 6,
     "metadata": {},
     "output_type": "execute_result"
    }
   ],
   "source": [
    "# np.ones() Crea un array de unos\n",
    "\n",
    "array_ones = np.ones((3, 4))\n",
    "array_ones"
   ]
  },
  {
   "cell_type": "code",
   "execution_count": 7,
   "id": "9bbb1477-b0df-4f50-9f1a-c8e37105c0fb",
   "metadata": {},
   "outputs": [
    {
     "data": {
      "text/plain": [
       "array([0, 2, 4, 6, 8])"
      ]
     },
     "execution_count": 7,
     "metadata": {},
     "output_type": "execute_result"
    }
   ],
   "source": [
    "# np.arange() Crea un array con valores espaciados uniformemente\n",
    "\n",
    "np_arange = np.arange(0, 10, 2)\n",
    "np_arange"
   ]
  },
  {
   "cell_type": "code",
   "execution_count": 12,
   "id": "426481e6-052a-4e60-a43f-97c2c5002021",
   "metadata": {},
   "outputs": [
    {
     "data": {
      "text/plain": [
       "64"
      ]
     },
     "execution_count": 12,
     "metadata": {},
     "output_type": "execute_result"
    }
   ],
   "source": [
    "# np.add() suma 2 array\n",
    "\n",
    "arr1 = np.array([1,5,7])\n",
    "arr2 = np.array([2,4,6])\n",
    "\n",
    "# sumar array\n",
    "suma_array = np.add(arr1, arr2)\n",
    "suma_array\n",
    "\n",
    "resta_array = np.subtract(arr1, arr2)\n",
    "resta_array\n",
    "\n",
    "#dividir Array\n",
    "division_array = np.divide(arr1, arr2)\n",
    "division_array\n",
    "\n",
    "# Multiplicar\n",
    "multi_arr = np.multiply(arr1, arr2)\n",
    "multi_arr\n",
    "\n",
    "# Producto entre 2 array\n",
    "prod_arr = np.dot(arr1,arr2)\n",
    "prod_arr"
   ]
  }
 ],
 "metadata": {
  "kernelspec": {
   "display_name": "Python 3 (ipykernel)",
   "language": "python",
   "name": "python3"
  },
  "language_info": {
   "codemirror_mode": {
    "name": "ipython",
    "version": 3
   },
   "file_extension": ".py",
   "mimetype": "text/x-python",
   "name": "python",
   "nbconvert_exporter": "python",
   "pygments_lexer": "ipython3",
   "version": "3.12.4"
  }
 },
 "nbformat": 4,
 "nbformat_minor": 5
}
